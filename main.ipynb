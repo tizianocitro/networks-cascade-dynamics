{
 "cells": [
  {
   "cell_type": "markdown",
   "metadata": {},
   "source": [
    "Testing with Karate Club"
   ]
  },
  {
   "cell_type": "code",
   "execution_count": 56,
   "metadata": {},
   "outputs": [],
   "source": [
    "from graph import *\n",
    "from seed_set import *\n",
    "from network import *"
   ]
  },
  {
   "cell_type": "code",
   "execution_count": 57,
   "metadata": {},
   "outputs": [
    {
     "name": "stdout",
     "output_type": "stream",
     "text": [
      "Nodes: [0, 1, 2, 3, 4, 5, 6, 7, 8, 9, 10, 11, 12, 13, 14, 15, 16, 17, 18, 19, 20, 21, 22, 23, 24, 25, 26, 27, 28, 29, 30, 31, 32, 33], edges: [(0, 1), (0, 2), (0, 3), (0, 4), (0, 5), (0, 6), (0, 7), (0, 8), (0, 10), (0, 11), (0, 12), (0, 13), (0, 17), (0, 19), (0, 21), (0, 31), (1, 2), (1, 3), (1, 7), (1, 13), (1, 17), (1, 19), (1, 21), (1, 30), (2, 3), (2, 7), (2, 8), (2, 9), (2, 13), (2, 27), (2, 28), (2, 32), (3, 7), (3, 12), (3, 13), (4, 6), (4, 10), (5, 6), (5, 10), (5, 16), (6, 16), (8, 30), (8, 32), (8, 33), (9, 33), (13, 33), (14, 32), (14, 33), (15, 32), (15, 33), (18, 32), (18, 33), (19, 33), (20, 32), (20, 33), (22, 32), (22, 33), (23, 25), (23, 27), (23, 29), (23, 32), (23, 33), (24, 25), (24, 27), (24, 31), (25, 31), (26, 29), (26, 33), (27, 33), (28, 31), (28, 33), (29, 32), (29, 33), (30, 32), (30, 33), (31, 32), (31, 33), (32, 33)]\n",
      "\n",
      "Using graph karate_club_graph with max degree 17\n",
      "\n"
     ]
    }
   ],
   "source": [
    "graph_name = \"karate_club_graph\"\n",
    "\n",
    "graph = graphs_by_name[graph_name]\n",
    "print(f\"Nodes: {graph.nodes}, edges: {graph.edges}\\n\")\n",
    "\n",
    "max_degree = get_max_degree(graph)\n",
    "\n",
    "print(f\"Using graph {graph_name} with max degree {max_degree}\\n\")"
   ]
  },
  {
   "cell_type": "code",
   "execution_count": 58,
   "metadata": {},
   "outputs": [],
   "source": [
    "# max threshold is equal to max degree for now\n",
    "max_threshold = max_degree\n",
    "nodes_threshold = generate_nodes_threshold_with_node_degrees(graph, graph.nodes)\n",
    "nodes_cost = generate_nodes_cost(graph.nodes)\n",
    "nodes_influenced = generate_nodes_influenced(graph.nodes)"
   ]
  },
  {
   "cell_type": "code",
   "execution_count": 59,
   "metadata": {},
   "outputs": [
    {
     "name": "stdout",
     "output_type": "stream",
     "text": [
      "Starting seed set:\n",
      "Seed set's nodes: [31, 12, 24, 26, 23] with size 5\n",
      "Cost of seed set: 165\n",
      "\n",
      "Influencing nodes in the seed set\n",
      "Nodes influenced: {0: False, 1: False, 2: False, 3: False, 4: False, 5: False, 6: False, 7: False, 8: False, 9: False, 10: False, 11: False, 12: True, 13: False, 14: False, 15: False, 16: False, 17: False, 18: False, 19: False, 20: False, 21: False, 22: False, 23: True, 24: True, 25: False, 26: True, 27: False, 28: False, 29: False, 30: False, 31: True, 32: False, 33: False}\n",
      "\n"
     ]
    }
   ],
   "source": [
    "S = random_seed_set(graph, 5)\n",
    "print(\"Starting seed set:\")\n",
    "print_seed_set(S)\n",
    "S_cost = seed_set_cost(S, nodes_cost)\n",
    "print(f\"Cost of seed set: {S_cost}\\n\")\n",
    "\n",
    "print(\"Influencing nodes in the seed set\")\n",
    "nodes_influenced = influence_nodes(S, nodes_influenced)\n",
    "print(f\"Nodes influenced: {nodes_influenced}\\n\")"
   ]
  },
  {
   "cell_type": "code",
   "execution_count": 63,
   "metadata": {},
   "outputs": [
    {
     "name": "stdout",
     "output_type": "stream",
     "text": [
      "Influenced seed set in 4 steps:\n",
      "Seed set's nodes: [0, 1, 2, 3, 4, 5, 6, 7, 8, 9, 10, 11, 12, 13, 14, 15, 16, 17, 18, 19, 20, 21, 22, 23, 24, 25, 26, 27, 28, 29, 30, 31, 32, 33] with size 34\n",
      "Cost of influenced seed set: 1722\n",
      "\n",
      "Nodes influenced: {0: True, 1: True, 2: True, 3: True, 4: True, 5: True, 6: True, 7: True, 8: True, 9: True, 10: True, 11: True, 12: True, 13: True, 14: True, 15: True, 16: True, 17: True, 18: True, 19: True, 20: True, 21: True, 22: True, 23: True, 24: True, 25: True, 26: True, 27: True, 28: True, 29: True, 30: True, 31: True, 32: True, 33: True}\n",
      "\n"
     ]
    }
   ],
   "source": [
    "S_influenced, t = threshold_influence_diffusion(graph, S, nodes_influenced, nodes_threshold)\n",
    "print(f\"Influenced seed set in {t} steps:\")\n",
    "print_seed_set(S_influenced)\n",
    "S_influenced_cost = seed_set_cost(S_influenced, nodes_cost)\n",
    "print(f\"Cost of influenced seed set: {S_influenced_cost}\\n\")\n",
    "print(f\"Nodes influenced: {nodes_influenced}\\n\")"
   ]
  }
 ],
 "metadata": {
  "kernelspec": {
   "display_name": ".venv",
   "language": "python",
   "name": "python3"
  },
  "language_info": {
   "codemirror_mode": {
    "name": "ipython",
    "version": 3
   },
   "file_extension": ".py",
   "mimetype": "text/x-python",
   "name": "python",
   "nbconvert_exporter": "python",
   "pygments_lexer": "ipython3",
   "version": "3.9.9"
  }
 },
 "nbformat": 4,
 "nbformat_minor": 2
}
