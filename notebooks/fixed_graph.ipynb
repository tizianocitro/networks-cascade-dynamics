{
 "cells": [
  {
   "cell_type": "code",
   "execution_count": 4,
   "metadata": {},
   "outputs": [],
   "source": [
    "import sys\n",
    "import os\n",
    "\n",
    "# set the project root directory (one level up from notebooks folder)\n",
    "project_root = os.path.abspath('..')\n",
    "sys.path.append(project_root)\n",
    "\n",
    "from network import *"
   ]
  },
  {
   "cell_type": "code",
   "execution_count": 5,
   "metadata": {},
   "outputs": [
    {
     "name": "stdout",
     "output_type": "stream",
     "text": [
      "Nodes: [0, 1, 2, 3, 4, 5], edges: [(0, 1), (1, 2), (2, 3), (2, 5), (3, 4)]\n",
      "\n",
      "Using fixed graph with max degree 3\n",
      "\n"
     ]
    }
   ],
   "source": [
    "# nodes from 0 to 4\n",
    "graph = line_graph(n=5)\n",
    "# add a node 5 with an edge to node 2\n",
    "graph.add_edge(2, 5)\n",
    "print(f\"Nodes: {graph.nodes}, edges: {graph.edges}\\n\")\n",
    "\n",
    "max_degree = get_max_degree(graph)\n",
    "\n",
    "print(f\"Using fixed graph with max degree {max_degree}\\n\")"
   ]
  },
  {
   "cell_type": "code",
   "execution_count": 6,
   "metadata": {},
   "outputs": [],
   "source": [
    "# max threshold is 1 to influence all nodes\n",
    "nodes_threshold = generate_nodes_threshold(graph.nodes, max=1)\n",
    "nodes_cost = generate_nodes_cost(graph.nodes)\n",
    "nodes_influenced = generate_nodes_influenced(graph.nodes)"
   ]
  },
  {
   "cell_type": "code",
   "execution_count": 7,
   "metadata": {},
   "outputs": [
    {
     "name": "stdout",
     "output_type": "stream",
     "text": [
      "Starting seed set:\n",
      "Seed set's nodes: [0] with size 1\n",
      "Influencing nodes in the seed set\n",
      "Nodes influenced: {0: True, 1: False, 2: False, 3: False, 4: False, 5: False}\n",
      "\n"
     ]
    }
   ],
   "source": [
    "S = [0]\n",
    "print(\"Starting seed set:\")\n",
    "print_seed_set(S)\n",
    "\n",
    "print(\"Influencing nodes in the seed set\")\n",
    "nodes_influenced = influence_nodes(S, nodes_influenced)\n",
    "print(f\"Nodes influenced: {nodes_influenced}\\n\")"
   ]
  },
  {
   "cell_type": "code",
   "execution_count": 8,
   "metadata": {},
   "outputs": [
    {
     "name": "stdout",
     "output_type": "stream",
     "text": [
      "Influenced seed set in 4 steps:\n",
      "Seed set's nodes: [0, 1, 2, 3, 4, 5] with size 6\n",
      "Cost of influenced seed set: 298\n",
      "\n",
      "Nodes influenced: {0: True, 1: True, 2: True, 3: True, 4: True, 5: True}\n",
      "\n"
     ]
    }
   ],
   "source": [
    "S_influenced, t = threshold_influence_diffusion(graph, S, nodes_influenced, nodes_threshold)\n",
    "print(f\"Influenced seed set in {t} steps:\")\n",
    "print_seed_set(S_influenced)\n",
    "S_influenced_cost = seed_set_cost(S_influenced, nodes_cost)\n",
    "print(f\"Cost of influenced seed set: {S_influenced_cost}\\n\")\n",
    "print(f\"Nodes influenced: {nodes_influenced}\\n\")"
   ]
  }
 ],
 "metadata": {
  "kernelspec": {
   "display_name": ".venv",
   "language": "python",
   "name": "python3"
  },
  "language_info": {
   "codemirror_mode": {
    "name": "ipython",
    "version": 3
   },
   "file_extension": ".py",
   "mimetype": "text/x-python",
   "name": "python",
   "nbconvert_exporter": "python",
   "pygments_lexer": "ipython3",
   "version": "3.9.9"
  }
 },
 "nbformat": 4,
 "nbformat_minor": 2
}
